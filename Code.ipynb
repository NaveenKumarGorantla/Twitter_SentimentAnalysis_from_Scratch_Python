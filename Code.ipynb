{
 "cells": [
  {
   "cell_type": "code",
   "execution_count": 2,
   "id": "19c353a8",
   "metadata": {},
   "outputs": [],
   "source": [
    "import numpy as np\n",
    "from sklearn.metrics import precision_score, confusion_matrix, mean_squared_error, accuracy_score\n",
    "import matplotlib.pyplot as plt\n",
    "from math import floor\n",
    "import nltk\n",
    "import re\n",
    "import string\n",
    "from nltk.corpus import stopwords\n",
    "from nltk.stem import PorterStemmer\n",
    "from nltk.tokenize import TweetTokenizer\n",
    "import pandas as pd\n",
    "from wordcloud import WordCloud, STOPWORDS\n",
    "list_stop_words = stopwords.words('english')\n",
    "list_stop_words.append(\"im\")\n",
    "stopwords1 = set(STOPWORDS)\n",
    "stopwords1.update([\"br\", \"href\",\"https\",\"t\",\"co\",\"c\",\"b'RT\",\"b'\",\"'\",\"neg\",\"b\",\"neg'\", \"I m\", \"I d\", \"i tt\", \"ift\"])"
   ]
  },
  {
   "cell_type": "code",
   "execution_count": 25,
   "id": "25d06189",
   "metadata": {},
   "outputs": [],
   "source": [
    "import pandas as pd\n",
    "df = pd.read_csv(r'twitter_training.csv')\n",
    "df.columns = ['id', 'topic', 'polarity', 'tweet']\n",
    "df = df.dropna()"
   ]
  },
  {
   "cell_type": "code",
   "execution_count": 26,
   "id": "9bcdc44a",
   "metadata": {},
   "outputs": [
    {
     "data": {
      "text/html": [
       "<div>\n",
       "<style scoped>\n",
       "    .dataframe tbody tr th:only-of-type {\n",
       "        vertical-align: middle;\n",
       "    }\n",
       "\n",
       "    .dataframe tbody tr th {\n",
       "        vertical-align: top;\n",
       "    }\n",
       "\n",
       "    .dataframe thead th {\n",
       "        text-align: right;\n",
       "    }\n",
       "</style>\n",
       "<table border=\"1\" class=\"dataframe\">\n",
       "  <thead>\n",
       "    <tr style=\"text-align: right;\">\n",
       "      <th></th>\n",
       "      <th>id</th>\n",
       "      <th>topic</th>\n",
       "      <th>polarity</th>\n",
       "      <th>tweet</th>\n",
       "    </tr>\n",
       "  </thead>\n",
       "  <tbody>\n",
       "    <tr>\n",
       "      <th>0</th>\n",
       "      <td>2401</td>\n",
       "      <td>Borderlands</td>\n",
       "      <td>Positive</td>\n",
       "      <td>I am coming to the borders and I will kill you...</td>\n",
       "    </tr>\n",
       "    <tr>\n",
       "      <th>1</th>\n",
       "      <td>2401</td>\n",
       "      <td>Borderlands</td>\n",
       "      <td>Positive</td>\n",
       "      <td>im getting on borderlands and i will kill you ...</td>\n",
       "    </tr>\n",
       "    <tr>\n",
       "      <th>2</th>\n",
       "      <td>2401</td>\n",
       "      <td>Borderlands</td>\n",
       "      <td>Positive</td>\n",
       "      <td>im coming on borderlands and i will murder you...</td>\n",
       "    </tr>\n",
       "    <tr>\n",
       "      <th>3</th>\n",
       "      <td>2401</td>\n",
       "      <td>Borderlands</td>\n",
       "      <td>Positive</td>\n",
       "      <td>im getting on borderlands 2 and i will murder ...</td>\n",
       "    </tr>\n",
       "    <tr>\n",
       "      <th>4</th>\n",
       "      <td>2401</td>\n",
       "      <td>Borderlands</td>\n",
       "      <td>Positive</td>\n",
       "      <td>im getting into borderlands and i can murder y...</td>\n",
       "    </tr>\n",
       "  </tbody>\n",
       "</table>\n",
       "</div>"
      ],
      "text/plain": [
       "     id        topic  polarity  \\\n",
       "0  2401  Borderlands  Positive   \n",
       "1  2401  Borderlands  Positive   \n",
       "2  2401  Borderlands  Positive   \n",
       "3  2401  Borderlands  Positive   \n",
       "4  2401  Borderlands  Positive   \n",
       "\n",
       "                                               tweet  \n",
       "0  I am coming to the borders and I will kill you...  \n",
       "1  im getting on borderlands and i will kill you ...  \n",
       "2  im coming on borderlands and i will murder you...  \n",
       "3  im getting on borderlands 2 and i will murder ...  \n",
       "4  im getting into borderlands and i can murder y...  "
      ]
     },
     "execution_count": 26,
     "metadata": {},
     "output_type": "execute_result"
    }
   ],
   "source": [
    "df.head()\n"
   ]
  },
  {
   "cell_type": "code",
   "execution_count": 27,
   "id": "49c76139",
   "metadata": {},
   "outputs": [
    {
     "data": {
      "text/plain": [
       "(73995, 4)"
      ]
     },
     "execution_count": 27,
     "metadata": {},
     "output_type": "execute_result"
    }
   ],
   "source": [
    "df.shape                 "
   ]
  },
  {
   "cell_type": "markdown",
   "id": "87bd612c",
   "metadata": {},
   "source": [
    "<body>selecting the data based on the topic as the data is too large</body>"
   ]
  },
  {
   "cell_type": "code",
   "execution_count": 28,
   "id": "f24e05f1",
   "metadata": {},
   "outputs": [
    {
     "data": {
      "text/plain": [
       "(18443, 4)"
      ]
     },
     "execution_count": 28,
     "metadata": {},
     "output_type": "execute_result"
    }
   ],
   "source": [
    "df = df.loc[df['topic'].isin(['Amazon', 'Facebook', 'Xbox(Xseries)','Nvidia','Google','Microsoft', 'FIFA', 'HomeDepot'])]#.groupby('topic').count()\n",
    "df.shape"
   ]
  },
  {
   "cell_type": "code",
   "execution_count": 29,
   "id": "0bcf504f",
   "metadata": {},
   "outputs": [],
   "source": [
    "#function to clean the data\n",
    "def process_tweet(tweet):\n",
    "    char = ''\n",
    "    arr = []\n",
    "    empty_words = ['',' ', '  ']\n",
    "    \n",
    "    for word in str(tweet).replace(\",\", \" \").split():\n",
    "        #print(word)\n",
    "        if(word.lower().strip() in ['amazon','facebook','nvidia','google','microsoft']):\n",
    "            continue\n",
    "        if len(word) == 1:\n",
    "            continue\n",
    "        word = re.sub(r'^RT[\\s]','', word)\n",
    "        word = re.sub(r'https?:\\/\\/.*[\\r\\n]*','', word)\n",
    "        word = re.sub(r'\\s+','', word)\n",
    "        if(re.search('^@[\\s]?[a-zA-Z0-9]',word)):\n",
    "            continue\n",
    "        if(re.search('^@[\\s]+[a-zA-Z0-9]',word)):\n",
    "            #print(word)\n",
    "            continue \n",
    "        if(re.search('\\W',word)):\n",
    "            word = re.sub(r'\\W','',word)\n",
    "        if(re.search('pi.*om',word)):\n",
    "            continue\n",
    "        if(re.search(r'\\d',word)):\n",
    "            continue\n",
    "        if (re.search(r'\\ ',word)):\n",
    "            continue\n",
    "        if word.strip().lower() not in list_stop_words and word not in string.punctuation and word not in empty_words and word not in stopwords1:\n",
    "            arr.append(word.strip())\n",
    "    return \" \".join(arr)"
   ]
  },
  {
   "cell_type": "code",
   "execution_count": 30,
   "id": "6631b78f",
   "metadata": {},
   "outputs": [],
   "source": [
    "#label encoding\n",
    "new_col = []\n",
    "for t in df['tweet']:\n",
    "    new_col.append(process_tweet(t))\n",
    "    \n",
    "df['unique_words'] = new_col\n",
    "df = df[df['polarity'].isin(['Positive','Negative'])]\n",
    "\n",
    "temp = [] \n",
    "for i in df['polarity']:\n",
    "    if i == 'Positive':\n",
    "        temp.append(1)\n",
    "    else:\n",
    "        temp.append(0)\n",
    "\n",
    "df['Sentiment'] = temp"
   ]
  },
  {
   "cell_type": "code",
   "execution_count": 31,
   "id": "98fcb644",
   "metadata": {},
   "outputs": [
    {
     "data": {
      "text/html": [
       "<div>\n",
       "<style scoped>\n",
       "    .dataframe tbody tr th:only-of-type {\n",
       "        vertical-align: middle;\n",
       "    }\n",
       "\n",
       "    .dataframe tbody tr th {\n",
       "        vertical-align: top;\n",
       "    }\n",
       "\n",
       "    .dataframe thead th {\n",
       "        text-align: right;\n",
       "    }\n",
       "</style>\n",
       "<table border=\"1\" class=\"dataframe\">\n",
       "  <thead>\n",
       "    <tr style=\"text-align: right;\">\n",
       "      <th></th>\n",
       "      <th>id</th>\n",
       "      <th>topic</th>\n",
       "      <th>polarity</th>\n",
       "      <th>tweet</th>\n",
       "      <th>unique_words</th>\n",
       "      <th>Sentiment</th>\n",
       "    </tr>\n",
       "  </thead>\n",
       "  <tbody>\n",
       "    <tr>\n",
       "      <th>4661</th>\n",
       "      <td>1</td>\n",
       "      <td>Amazon</td>\n",
       "      <td>Negative</td>\n",
       "      <td>@amazon wtf .</td>\n",
       "      <td>wtf</td>\n",
       "      <td>0</td>\n",
       "    </tr>\n",
       "    <tr>\n",
       "      <th>4662</th>\n",
       "      <td>1</td>\n",
       "      <td>Amazon</td>\n",
       "      <td>Negative</td>\n",
       "      <td>@ amazon wtf.</td>\n",
       "      <td>wtf</td>\n",
       "      <td>0</td>\n",
       "    </tr>\n",
       "    <tr>\n",
       "      <th>4663</th>\n",
       "      <td>1</td>\n",
       "      <td>Amazon</td>\n",
       "      <td>Negative</td>\n",
       "      <td>@ amazon wtf.</td>\n",
       "      <td>wtf</td>\n",
       "      <td>0</td>\n",
       "    </tr>\n",
       "    <tr>\n",
       "      <th>4664</th>\n",
       "      <td>1</td>\n",
       "      <td>Amazon</td>\n",
       "      <td>Negative</td>\n",
       "      <td>@amazon wtf?</td>\n",
       "      <td>wtf</td>\n",
       "      <td>0</td>\n",
       "    </tr>\n",
       "    <tr>\n",
       "      <th>4665</th>\n",
       "      <td>1</td>\n",
       "      <td>Amazon</td>\n",
       "      <td>Negative</td>\n",
       "      <td>7 @amazon wtf.</td>\n",
       "      <td>wtf</td>\n",
       "      <td>0</td>\n",
       "    </tr>\n",
       "  </tbody>\n",
       "</table>\n",
       "</div>"
      ],
      "text/plain": [
       "      id   topic  polarity           tweet unique_words  Sentiment\n",
       "4661   1  Amazon  Negative  @amazon wtf .           wtf          0\n",
       "4662   1  Amazon  Negative   @ amazon wtf.          wtf          0\n",
       "4663   1  Amazon  Negative   @ amazon wtf.          wtf          0\n",
       "4664   1  Amazon  Negative    @amazon wtf?          wtf          0\n",
       "4665   1  Amazon  Negative  7 @amazon wtf.          wtf          0"
      ]
     },
     "execution_count": 31,
     "metadata": {},
     "output_type": "execute_result"
    }
   ],
   "source": [
    "df.head()"
   ]
  },
  {
   "cell_type": "code",
   "execution_count": 32,
   "id": "ccdf1c34",
   "metadata": {},
   "outputs": [],
   "source": [
    "#fetching the rare words from the tweets and getting the words that are occured only once \n",
    "rare_words = pd.Series(\" \".join(df[\"unique_words\"]).split()).value_counts()\n",
    "rare_words = rare_words[rare_words <= 2]"
   ]
  },
  {
   "cell_type": "code",
   "execution_count": 33,
   "id": "5e678d0a",
   "metadata": {},
   "outputs": [],
   "source": [
    "#removing the words that occured only once\n",
    "df[\"unique_words\"] = df[\"unique_words\"].apply(lambda x: \" \".join([i for i in x.split() if i not in rare_words.index]))\n",
    "\n",
    "#getting the features and labels\n",
    "X = df['unique_words']\n",
    "y = df['Sentiment']"
   ]
  },
  {
   "cell_type": "code",
   "execution_count": 34,
   "id": "a4222287",
   "metadata": {},
   "outputs": [
    {
     "data": {
      "text/plain": [
       "(9894,)"
      ]
     },
     "execution_count": 34,
     "metadata": {},
     "output_type": "execute_result"
    }
   ],
   "source": [
    "X.shape"
   ]
  },
  {
   "cell_type": "code",
   "execution_count": 11,
   "id": "896170f5",
   "metadata": {},
   "outputs": [
    {
     "data": {
      "text/plain": [
       "(7915, 2020)"
      ]
     },
     "execution_count": 11,
     "metadata": {},
     "output_type": "execute_result"
    }
   ],
   "source": [
    "#splitting and converting the data into numerical fearures\n",
    "from sklearn.feature_extraction.text import TfidfVectorizer\n",
    "from sklearn.model_selection import train_test_split\n",
    "X_train, X_valid, y_train, y_valid = train_test_split(X, y, test_size = 0.2)\n",
    "vectorizer = TfidfVectorizer(min_df = 7)\n",
    "X_vector_train = vectorizer.fit_transform(X_train)\n",
    "X_vector_valid = vectorizer.transform(X_valid)\n",
    "X_vector_train.shape"
   ]
  },
  {
   "cell_type": "code",
   "execution_count": 12,
   "id": "07c162f7",
   "metadata": {},
   "outputs": [
    {
     "data": {
      "text/plain": [
       "(7915, 2021)"
      ]
     },
     "execution_count": 12,
     "metadata": {},
     "output_type": "execute_result"
    }
   ],
   "source": [
    "#converting the data into array and adding bias\n",
    "x_train_df = X_vector_train.toarray()\n",
    "x_valid_df = X_vector_valid.toarray()\n",
    "\n",
    "x_train_df_new = np.insert(x_train_df, 0, 1, axis = 1)\n",
    "x_valid_df_new = np.insert(x_valid_df, 0, 1, axis = 1)\n",
    "\n",
    "x_train_df = x_train_df_new\n",
    "x_valid_df = x_valid_df_new\n",
    "x_train_df.shape"
   ]
  },
  {
   "cell_type": "code",
   "execution_count": 13,
   "id": "0dd107e2",
   "metadata": {},
   "outputs": [],
   "source": [
    "#converting the labels into arrays\n",
    "y_train_df = pd.Series(y_train).array\n",
    "y_valid_df = pd.Series(y_valid).array"
   ]
  },
  {
   "cell_type": "markdown",
   "id": "b80a0465",
   "metadata": {},
   "source": [
    "<h3> Perceptron </h3>"
   ]
  },
  {
   "cell_type": "markdown",
   "id": "12c575e7",
   "metadata": {},
   "source": [
    "<body> function to train the perceptron </body>"
   ]
  },
  {
   "cell_type": "code",
   "execution_count": 14,
   "id": "457e9b3f",
   "metadata": {},
   "outputs": [],
   "source": [
    "def perceptron(x, y, w, eta = 0.1, n = 1):\n",
    "    \n",
    "    k = 0\n",
    "    for it in range(n):\n",
    "        for ind, ex in enumerate(x):\n",
    "            prod = np.dot(ex, w)\n",
    "\n",
    "            if prod > 0:\n",
    "                pred = 1\n",
    "            else:\n",
    "                pred = 0\n",
    "\n",
    "            true_label = y[ind]\n",
    "            if true_label != pred:\n",
    "                k+=1\n",
    "                for i in range(len(w)):\n",
    "\n",
    "                    w[i] += eta * (true_label - pred )*ex[i]\n",
    "                \n",
    "    return w    "
   ]
  },
  {
   "cell_type": "markdown",
   "id": "20833c51",
   "metadata": {},
   "source": [
    "<body> training the perceptron on train data and checking the accuracy on validation data</body>"
   ]
  },
  {
   "cell_type": "code",
   "execution_count": 15,
   "id": "f1410449",
   "metadata": {},
   "outputs": [
    {
     "name": "stdout",
     "output_type": "stream",
     "text": [
      "the accuracy score whene eta = 0.01 and n = 1 is 0.8514401212733704\n",
      "the confusion matrix whene eta = 0.01 and n = 1 is [[971 112]\n",
      " [182 714]]\n",
      "the accuracy score whene eta = 0.05 and n = 1 is 0.8514401212733704\n",
      "the confusion matrix whene eta = 0.05 and n = 1 is [[971 112]\n",
      " [182 714]]\n",
      "the accuracy score whene eta = 0.1 and n = 1 is 0.8514401212733704\n",
      "the confusion matrix whene eta = 0.1 and n = 1 is [[971 112]\n",
      " [182 714]]\n",
      "the accuracy score whene eta = 0.5 and n = 1 is 0.8514401212733704\n",
      "the confusion matrix whene eta = 0.5 and n = 1 is [[971 112]\n",
      " [182 714]]\n",
      "the accuracy score whene eta = 0.9 and n = 1 is 0.8514401212733704\n",
      "the confusion matrix whene eta = 0.9 and n = 1 is [[971 112]\n",
      " [182 714]]\n",
      "the accuracy score whene eta = 0.01 and n = 3 is 0.8807478524507327\n",
      "the confusion matrix whene eta = 0.01 and n = 3 is [[1015   68]\n",
      " [ 168  728]]\n",
      "the accuracy score whene eta = 0.05 and n = 3 is 0.8807478524507327\n",
      "the confusion matrix whene eta = 0.05 and n = 3 is [[1015   68]\n",
      " [ 168  728]]\n",
      "the accuracy score whene eta = 0.1 and n = 3 is 0.8807478524507327\n",
      "the confusion matrix whene eta = 0.1 and n = 3 is [[1015   68]\n",
      " [ 168  728]]\n",
      "the accuracy score whene eta = 0.5 and n = 3 is 0.8807478524507327\n",
      "the confusion matrix whene eta = 0.5 and n = 3 is [[1015   68]\n",
      " [ 168  728]]\n",
      "the accuracy score whene eta = 0.9 and n = 3 is 0.8807478524507327\n",
      "the confusion matrix whene eta = 0.9 and n = 3 is [[1015   68]\n",
      " [ 168  728]]\n",
      "the accuracy score whene eta = 0.01 and n = 5 is 0.8807478524507327\n",
      "the confusion matrix whene eta = 0.01 and n = 5 is [[1023   60]\n",
      " [ 176  720]]\n",
      "the accuracy score whene eta = 0.05 and n = 5 is 0.8807478524507327\n",
      "the confusion matrix whene eta = 0.05 and n = 5 is [[1023   60]\n",
      " [ 176  720]]\n",
      "the accuracy score whene eta = 0.1 and n = 5 is 0.8807478524507327\n",
      "the confusion matrix whene eta = 0.1 and n = 5 is [[1023   60]\n",
      " [ 176  720]]\n",
      "the accuracy score whene eta = 0.5 and n = 5 is 0.8807478524507327\n",
      "the confusion matrix whene eta = 0.5 and n = 5 is [[1023   60]\n",
      " [ 176  720]]\n",
      "the accuracy score whene eta = 0.9 and n = 5 is 0.8807478524507327\n",
      "the confusion matrix whene eta = 0.9 and n = 5 is [[1023   60]\n",
      " [ 176  720]]\n",
      "the accuracy score whene eta = 0.01 and n = 7 is 0.8817584638706417\n",
      "the confusion matrix whene eta = 0.01 and n = 7 is [[1016   67]\n",
      " [ 167  729]]\n",
      "the accuracy score whene eta = 0.05 and n = 7 is 0.8817584638706417\n",
      "the confusion matrix whene eta = 0.05 and n = 7 is [[1016   67]\n",
      " [ 167  729]]\n",
      "the accuracy score whene eta = 0.1 and n = 7 is 0.8817584638706417\n",
      "the confusion matrix whene eta = 0.1 and n = 7 is [[1016   67]\n",
      " [ 167  729]]\n",
      "the accuracy score whene eta = 0.5 and n = 7 is 0.8817584638706417\n",
      "the confusion matrix whene eta = 0.5 and n = 7 is [[1016   67]\n",
      " [ 167  729]]\n",
      "the accuracy score whene eta = 0.9 and n = 7 is 0.8817584638706417\n",
      "the confusion matrix whene eta = 0.9 and n = 7 is [[1016   67]\n",
      " [ 167  729]]\n",
      "the accuracy score whene eta = 0.01 and n = 10 is 0.8913592723597776\n",
      "the confusion matrix whene eta = 0.01 and n = 10 is [[1024   59]\n",
      " [ 156  740]]\n",
      "the accuracy score whene eta = 0.05 and n = 10 is 0.8913592723597776\n",
      "the confusion matrix whene eta = 0.05 and n = 10 is [[1024   59]\n",
      " [ 156  740]]\n",
      "the accuracy score whene eta = 0.1 and n = 10 is 0.8913592723597776\n",
      "the confusion matrix whene eta = 0.1 and n = 10 is [[1024   59]\n",
      " [ 156  740]]\n",
      "the accuracy score whene eta = 0.5 and n = 10 is 0.8913592723597776\n",
      "the confusion matrix whene eta = 0.5 and n = 10 is [[1024   59]\n",
      " [ 156  740]]\n",
      "the accuracy score whene eta = 0.9 and n = 10 is 0.8913592723597776\n",
      "the confusion matrix whene eta = 0.9 and n = 10 is [[1024   59]\n",
      " [ 156  740]]\n",
      "the accuracy score whene eta = 0.01 and n = 20 is 0.8888327438100051\n",
      "the confusion matrix whene eta = 0.01 and n = 20 is [[1031   52]\n",
      " [ 168  728]]\n",
      "the accuracy score whene eta = 0.05 and n = 20 is 0.8888327438100051\n",
      "the confusion matrix whene eta = 0.05 and n = 20 is [[1031   52]\n",
      " [ 168  728]]\n",
      "the accuracy score whene eta = 0.1 and n = 20 is 0.8888327438100051\n",
      "the confusion matrix whene eta = 0.1 and n = 20 is [[1031   52]\n",
      " [ 168  728]]\n",
      "the accuracy score whene eta = 0.5 and n = 20 is 0.8888327438100051\n",
      "the confusion matrix whene eta = 0.5 and n = 20 is [[1031   52]\n",
      " [ 168  728]]\n",
      "the accuracy score whene eta = 0.9 and n = 20 is 0.8888327438100051\n",
      "the confusion matrix whene eta = 0.9 and n = 20 is [[1031   52]\n",
      " [ 168  728]]\n",
      "the accuracy score whene eta = 0.01 and n = 30 is 0.8888327438100051\n",
      "the confusion matrix whene eta = 0.01 and n = 30 is [[1026   57]\n",
      " [ 163  733]]\n",
      "the accuracy score whene eta = 0.05 and n = 30 is 0.8888327438100051\n",
      "the confusion matrix whene eta = 0.05 and n = 30 is [[1026   57]\n",
      " [ 163  733]]\n",
      "the accuracy score whene eta = 0.1 and n = 30 is 0.8888327438100051\n",
      "the confusion matrix whene eta = 0.1 and n = 30 is [[1026   57]\n",
      " [ 163  733]]\n",
      "the accuracy score whene eta = 0.5 and n = 30 is 0.8888327438100051\n",
      "the confusion matrix whene eta = 0.5 and n = 30 is [[1026   57]\n",
      " [ 163  733]]\n",
      "the accuracy score whene eta = 0.9 and n = 30 is 0.8888327438100051\n",
      "the confusion matrix whene eta = 0.9 and n = 30 is [[1026   57]\n",
      " [ 163  733]]\n",
      "the accuracy score whene eta = 0.01 and n = 50 is 0.8832743810005053\n",
      "the confusion matrix whene eta = 0.01 and n = 50 is [[1026   57]\n",
      " [ 174  722]]\n",
      "the accuracy score whene eta = 0.05 and n = 50 is 0.8832743810005053\n",
      "the confusion matrix whene eta = 0.05 and n = 50 is [[1026   57]\n",
      " [ 174  722]]\n",
      "the accuracy score whene eta = 0.1 and n = 50 is 0.8832743810005053\n",
      "the confusion matrix whene eta = 0.1 and n = 50 is [[1026   57]\n",
      " [ 174  722]]\n",
      "the accuracy score whene eta = 0.5 and n = 50 is 0.8832743810005053\n",
      "the confusion matrix whene eta = 0.5 and n = 50 is [[1026   57]\n",
      " [ 174  722]]\n",
      "the accuracy score whene eta = 0.9 and n = 50 is 0.8832743810005053\n",
      "the confusion matrix whene eta = 0.9 and n = 50 is [[1026   57]\n",
      " [ 174  722]]\n"
     ]
    }
   ],
   "source": [
    "n = [1, 3, 5, 7, 10, 20,30, 50]\n",
    "eta = [0.01, 0.05, 0.1, 0.5, 0.9]\n",
    "precision_score_mat = {}\n",
    "confusion_matrix_mat = {}\n",
    "for i_n in n:\n",
    "    for j in eta:\n",
    "        W = np.zeros((x_train_df.shape[1], 1))\n",
    "        W = perceptron(x_train_df, y_train_df, W, j, i_n)\n",
    "        \n",
    "        pred_valid_y = []\n",
    "        for i in range(len(x_valid_df)):\n",
    "            val = np.dot(x_valid_df[i], W)\n",
    "\n",
    "            if val > 0:\n",
    "                pred_valid_y.append(1)\n",
    "            else:\n",
    "                pred_valid_y.append(0)\n",
    "        p_s = accuracy_score(y_valid_df,pred_valid_y)\n",
    "        C_m = confusion_matrix(y_valid_df,pred_valid_y)\n",
    "        print(f\"the accuracy score whene eta = {j} and n = {i_n} is {p_s}\")\n",
    "        precision_score_mat[str(i_n), str(j)] = p_s\n",
    "        print(f\"the confusion matrix whene eta = {j} and n = {i_n} is {C_m}\")\n",
    "        confusion_matrix_mat[str(i_n), str(j)] = C_m"
   ]
  },
  {
   "cell_type": "code",
   "execution_count": 16,
   "id": "725d6a4a",
   "metadata": {
    "scrolled": true
   },
   "outputs": [
    {
     "data": {
      "text/plain": [
       "(7915, 2021)"
      ]
     },
     "execution_count": 16,
     "metadata": {},
     "output_type": "execute_result"
    }
   ],
   "source": [
    "x_train_df.shape"
   ]
  },
  {
   "cell_type": "code",
   "execution_count": 17,
   "id": "1133c264",
   "metadata": {},
   "outputs": [
    {
     "name": "stdout",
     "output_type": "stream",
     "text": [
      "('1', '0.1') 0.8514401212733704\n",
      "('3', '0.1') 0.8807478524507327\n",
      "('5', '0.1') 0.8807478524507327\n",
      "('7', '0.1') 0.8817584638706417\n",
      "('10', '0.1') 0.8913592723597776\n",
      "('20', '0.1') 0.8888327438100051\n",
      "('30', '0.1') 0.8888327438100051\n",
      "('50', '0.1') 0.8832743810005053\n"
     ]
    }
   ],
   "source": [
    "iter_num = []\n",
    "prec = []\n",
    "for i in precision_score_mat.keys():\n",
    "    if i[1] == '0.1':\n",
    "        iter_num.append(i[0])\n",
    "        prec.append(precision_score_mat[i])\n",
    "        print(i, precision_score_mat[i])"
   ]
  },
  {
   "cell_type": "code",
   "execution_count": 18,
   "id": "8be0d72b",
   "metadata": {},
   "outputs": [
    {
     "data": {
      "text/plain": [
       "Text(0.5, 1.0, 'Accuracy score for different number of iteration for learning rate = 0.1 for perceptron')"
      ]
     },
     "execution_count": 18,
     "metadata": {},
     "output_type": "execute_result"
    },
    {
     "data": {
      "image/png": "[encoded data removed]",
      "text/plain": [
       "<Figure size 432x288 with 1 Axes>"
      ]
     },
     "metadata": {
      "needs_background": "light"
     },
     "output_type": "display_data"
    }
   ],
   "source": [
    "plt.plot(iter_num, prec)\n",
    "plt.xlabel(\"Number of iterations\")\n",
    "plt.ylabel(\"Accuracy score\")\n",
    "plt.title(\"Accuracy score for different number of iteration for learning rate = 0.1 for perceptron\")"
   ]
  },
  {
   "cell_type": "markdown",
   "id": "4a08e4be",
   "metadata": {},
   "source": [
    "<h3> Logistic Regression </h3>"
   ]
  },
  {
   "cell_type": "code",
   "execution_count": 19,
   "id": "9402fa6f",
   "metadata": {},
   "outputs": [],
   "source": [
    "def sigmoid(z):\n",
    "    return 1 / (1 + np.exp(-z))\n",
    "\n",
    "def calc_h(X, theta):\n",
    "    z = np.dot(X, theta)\n",
    "    h = sigmoid(z)\n",
    "    return h"
   ]
  },
  {
   "cell_type": "markdown",
   "id": "afd8a6bd",
   "metadata": {},
   "source": [
    "<body> function to create a logistic regression model </body>"
   ]
  },
  {
   "cell_type": "code",
   "execution_count": 20,
   "id": "3240a433",
   "metadata": {},
   "outputs": [],
   "source": [
    "def logistic_regression(X_inp, y, num_iter = 100, alpha = 0.1, lambda_value = 0.0000001):\n",
    "    cost_epochs = []\n",
    "    theta = np.zeros(X_inp.shape[1])\n",
    "    m = y.size\n",
    "    batchsize = 100\n",
    "    batches = floor(y.size/batchsize)\n",
    "    #lambda_value = 0.0000001\n",
    "    for epoch in range(num_iter):\n",
    "        cost_list = []\n",
    "        for i in range(batches):\n",
    "            s = i*batchsize\n",
    "            k= s+ batchsize\n",
    "            Y = y[s:k]\n",
    "            x = X_inp[s:k,:]\n",
    "            h = calc_h(x, theta)\n",
    "            lasso_reg_term = (lambda_value / 2 * batchsize) * sum(abs(theta))\n",
    "            cost = (-Y * np.log(h) - (1 - Y) * np.log(1 - h)).mean() + lasso_reg_term\n",
    "            cost_list.append(cost)\n",
    "\n",
    "            gradient = (np.dot(x.T, (h - Y)))/ batchsize  +  (lambda_value * abs(theta))\n",
    "            theta -= alpha * gradient\n",
    "\n",
    "        cost_epochs.append(np.average(cost_list))\n",
    "        if((epoch + 1 )%10 ==0):    \n",
    "            print(f\"After {epoch+1} epochs, Loss = {cost}\")\n",
    "            \n",
    "\n",
    "    #print('Adjusted coefficient: {}'.format(theta))\n",
    "    print(h.shape)\n",
    "    return theta, cost_epochs"
   ]
  },
  {
   "cell_type": "markdown",
   "id": "36912456",
   "metadata": {},
   "source": [
    "<body> training the logistic regression on various number of iterations </body>"
   ]
  },
  {
   "cell_type": "code",
   "execution_count": null,
   "id": "835a45af",
   "metadata": {},
   "outputs": [],
   "source": [
    "valid_accuracy = []\n",
    "ite = [20, 200, 2000, 4000, 10000]\n",
    "lambda_val = [0.0000001, 0.00001, 0.001, 1, 3, 5, 5000]\n",
    "for i in ite:\n",
    "    theta, cost_epochs = logistic_regression(x_train_df, y_train_df, i, alpha = 0.1)\n",
    "    preds_prob = calc_h(x_valid_df, theta)\n",
    "    y_pred = preds_prob.round()\n",
    "    valid_accuracy.append(accuracy_score(y_valid_df,y_pred))"
   ]
  },
  {
   "cell_type": "code",
   "execution_count": 22,
   "id": "35c6908a",
   "metadata": {},
   "outputs": [
    {
     "data": {
      "text/plain": [
       "Text(0.5, 1.0, 'Accuracy score for logistic regression for learning rate = 0.1')"
      ]
     },
     "execution_count": 22,
     "metadata": {},
     "output_type": "execute_result"
    },
    {
     "data": {
      "image/png": "[encoded data removed]",
      "text/plain": [
       "<Figure size 432x288 with 1 Axes>"
      ]
     },
     "metadata": {
      "needs_background": "light"
     },
     "output_type": "display_data"
    }
   ],
   "source": [
    "plt.plot(ite, valid_accuracy)\n",
    "plt.xlabel(\"Number of epochs\")\n",
    "plt.ylabel(\"Accuracy score\")\n",
    "plt.title(\"Accuracy score for logistic regression for learning rate = 0.1\")"
   ]
  },
  {
   "cell_type": "markdown",
   "id": "aaae0cb0",
   "metadata": {},
   "source": [
    "<h3> Neural Networks </h3>"
   ]
  },
  {
   "cell_type": "markdown",
   "id": "4cdaaf94",
   "metadata": {},
   "source": [
    "<body> class that creates and trains a neural network model </body>"
   ]
  },
  {
   "cell_type": "code",
   "execution_count": 20,
   "id": "11bdde22",
   "metadata": {},
   "outputs": [],
   "source": [
    "import random\n",
    "import numpy as np\n",
    " \n",
    "# helpers\n",
    "def sigmoid(z):\n",
    "    return 1.0/(1.0+np.exp(-z))\n",
    " \n",
    "def sigmoid_derivative(z):\n",
    "    return sigmoid(z)*(1-sigmoid(z))\n",
    " \n",
    "class Neural_Network:\n",
    "    # sizes is a list of the number of nodes in each layer\n",
    "    def __init__(self, sizes):\n",
    "        self.num_layers = len(sizes)\n",
    "        self.sizes = sizes\n",
    "        self.accuracy_mat = []\n",
    "        \n",
    "        #creating weights and bias\n",
    "        self.bias = []\n",
    "        self.weights = []\n",
    "        for layer in range(len(sizes)):\n",
    "            if layer != 0:\n",
    "                self.bias.append(np.random.randn(sizes[layer], 1))\n",
    "                \n",
    "                inp_layer = sizes[layer-1]\n",
    "                self.weights.append(np.random.randn(sizes[layer], inp_layer))\n",
    "    \n",
    "    def forwardPropagation(self, a):\n",
    "        for b, w in zip(self.bias, self.weights):\n",
    "            a = sigmoid(np.dot(w, a) + b)\n",
    "        return a\n",
    "   \n",
    "    def SGD(self, training_data, epochs, mini_batch_size, eta, test_data=None):\n",
    "        training_data = list(training_data)\n",
    "        samples = len(training_data)\n",
    "       \n",
    "        if test_data:\n",
    "            test_data = list(test_data)\n",
    "            n_test = len(test_data)\n",
    "       \n",
    "        for j in range(epochs):\n",
    "            random.shuffle(training_data)\n",
    "            mini_batches = [training_data[k:k+mini_batch_size]\n",
    "                            for k in range(0, samples, mini_batch_size)]\n",
    "            for mini_batch in mini_batches:\n",
    "                self.update_mini_batch(mini_batch, eta)\n",
    "            if test_data:\n",
    "                #print(f\"Epoch {j}: {self.evaluate(test_data)} / {n_test}\")\n",
    "                accuracy = self.evaluate(test_data)\n",
    "                self.accuracy_mat.append(accuracy)\n",
    "                print(f\"Epoch {j}: {accuracy}\")\n",
    "            else:\n",
    "                print(f\"Epoch {j} complete\")\n",
    "   \n",
    "    def cost_derivative(self, output_activations, y):\n",
    "        return(output_activations - y)\n",
    "   \n",
    "    def backpropagation(self, x, y):\n",
    "        nabla_b = [np.zeros(b.shape) for b in self.bias]\n",
    "        nabla_w = [np.zeros(w.shape) for w in self.weights]\n",
    "        # forwardPropagation\n",
    "        activation = x\n",
    "        activations = [x] # stores activations layer by layer\n",
    "        zs = [] # stores z vectors layer by layer\n",
    "        for b, w in zip(self.bias, self.weights):\n",
    "            z = np.dot(w, activation) + b\n",
    "            zs.append(z)\n",
    "            activation = sigmoid(z)\n",
    "            activations.append(activation)\n",
    "       \n",
    "       \n",
    "        # backward pass\n",
    "        delta = self.cost_derivative(activations[-1], y) * sigmoid_derivative(zs[-1])\n",
    "        nabla_b[-1] = delta\n",
    "        nabla_w[-1] = np.dot(delta, activations[-2].transpose())\n",
    "       \n",
    "        for _layer in range(2, self.num_layers):\n",
    "            z = zs[-_layer]\n",
    "            sp = sigmoid_derivative(z)\n",
    "            delta = np.dot(self.weights[-_layer+1].transpose(), delta) * sp\n",
    "            nabla_b[-_layer] = delta\n",
    "            nabla_w[-_layer] = np.dot(delta, activations[-_layer-1].transpose())\n",
    "        return (nabla_b, nabla_w)\n",
    "   \n",
    "    def update_mini_batch(self, mini_batch, eta):\n",
    "        nabla_b = [np.zeros(b.shape) for b in self.bias]\n",
    "        nabla_w = [np.zeros(w.shape) for w in self.weights]\n",
    "        for x, y in mini_batch:\n",
    "            delta_nabla_b, delta_nabla_w = self.backpropagation(x, y)\n",
    "            nabla_b = [nb + dnb for nb, dnb in zip(nabla_b, delta_nabla_b)]\n",
    "            nabla_w = [nw + dnw for nw, dnw in zip(nabla_w, delta_nabla_w)]\n",
    "        self.weights = [w-(eta/len(mini_batch))*nw\n",
    "                        for w, nw in zip(self.weights, nabla_w)]\n",
    "        self.bias = [b-(eta/len(mini_batch))*nb\n",
    "                       for b, nb in zip(self.bias, nabla_b)]\n",
    "       \n",
    "    def evaluate(self, test_data):\n",
    "        pred = []\n",
    "        true_label = []\n",
    "        for (x, y) in test_data:\n",
    "            #print(x, y)\n",
    "            if y[0] == 1:\n",
    "                true_label.append(0)\n",
    "            else:\n",
    "                true_label.append(1)\n",
    "                \n",
    "            pred.append(np.argmax(self.forwardPropagation(x)))\n",
    "        return accuracy_score(true_label, pred)\n",
    "    \n",
    "    def predict(self, data):\n",
    "        prediction = [np.argmax(self.forwardPropagation(x)) for (x, y) in data]\n",
    "        return prediction"
   ]
  },
  {
   "cell_type": "markdown",
   "id": "547f197c",
   "metadata": {},
   "source": [
    "<body> function for doing one hot encoding. This is typically used on labels as the perceptron has two output neurons.</body>"
   ]
  },
  {
   "cell_type": "code",
   "execution_count": 21,
   "id": "658b2d2d",
   "metadata": {},
   "outputs": [],
   "source": [
    "def one_hot_encode(y):\n",
    "    encoded = np.zeros((2, 1))\n",
    "    encoded[y] = 1.0\n",
    "    return encoded"
   ]
  },
  {
   "cell_type": "markdown",
   "id": "f90ba674",
   "metadata": {},
   "source": [
    "<body> doing the one hot encoding on the labels. </body>"
   ]
  },
  {
   "cell_type": "code",
   "execution_count": 22,
   "id": "1fb23fa8",
   "metadata": {
    "scrolled": true
   },
   "outputs": [],
   "source": [
    "x_train_df = X_vector_train.toarray()\n",
    "x_valid_df = X_vector_valid.toarray()\n",
    "y_train_df = np.array(y_train)\n",
    "y_valid_df = np.array(y_valid)\n",
    "\n",
    "x_train_df = [np.reshape(x, (X_vector_train.shape[1], 1)) for x in x_train_df]\n",
    "y_train_df = [one_hot_encode(y) for y in y_train_df]\n",
    "\n",
    "x_valid_df = [np.reshape(x, (X_vector_train.shape[1], 1)) for x in x_valid_df]\n",
    "y_valid_df = [one_hot_encode(y) for y in y_valid_df]\n",
    "\n",
    "training_data = zip(x_train_df,y_train_df)\n",
    "valid_data = zip(x_valid_df,y_valid_df)"
   ]
  },
  {
   "cell_type": "markdown",
   "id": "3578ded8",
   "metadata": {},
   "source": [
    "<body> creating and training the networkk. </body>"
   ]
  },
  {
   "cell_type": "code",
   "execution_count": null,
   "id": "51eb8cae",
   "metadata": {
    "scrolled": true
   },
   "outputs": [],
   "source": [
    "net = Neural_Network([X_vector_train.shape[1], 100, 25, 2])\n",
    "net.SGD(training_data, 500, 200, 0.5, test_data=valid_data)"
   ]
  },
  {
   "cell_type": "code",
   "execution_count": null,
   "id": "82919fa2",
   "metadata": {},
   "outputs": [],
   "source": [
    "accuracy = net.accuracy_mat\n",
    "accuracy"
   ]
  },
  {
   "cell_type": "code",
   "execution_count": 25,
   "id": "ca30c31a",
   "metadata": {},
   "outputs": [
    {
     "data": {
      "text/plain": [
       "Text(0.5, 1.0, 'Accuracy vs number of epochs on validation data for Neural Networks with 2 layers')"
      ]
     },
     "execution_count": 25,
     "metadata": {},
     "output_type": "execute_result"
    },
    {
     "data": {
      "image/png": "[encoded data removed]",
      "text/plain": [
       "<Figure size 432x288 with 1 Axes>"
      ]
     },
     "metadata": {
      "needs_background": "light"
     },
     "output_type": "display_data"
    }
   ],
   "source": [
    "plt.plot(accuracy)\n",
    "plt.xlabel('# of epochs')\n",
    "plt.ylabel(\"Accuracy\")\n",
    "plt.title('Accuracy vs number of epochs on validation data for Neural Networks with 2 layers')"
   ]
  },
  {
   "cell_type": "markdown",
   "id": "eb17fc47",
   "metadata": {},
   "source": [
    "<h3> prediction on test data </h3>"
   ]
  },
  {
   "cell_type": "code",
   "execution_count": 29,
   "id": "ef979af1",
   "metadata": {},
   "outputs": [
    {
     "data": {
      "text/plain": [
       "(120, 4)"
      ]
     },
     "execution_count": 29,
     "metadata": {},
     "output_type": "execute_result"
    }
   ],
   "source": [
    "df_test = pd.read_csv(r'twitter_validation.csv')\n",
    "df_test.columns = ['id', 'topic', 'polarity', 'tweet']\n",
    "df_test = df_test.loc[df_test['polarity'].isin(['Positive','Negative'])]\n",
    "df_test = df_test.dropna()\n",
    "df_test = df_test.loc[df_test['topic'].isin(['Amazon', 'Facebook', 'Xbox(Xseries)','Nvidia','Google','Microsoft', 'FIFA', 'HomeDepot'])]#.groupby('topic').count()\n",
    "df_test.shape"
   ]
  },
  {
   "cell_type": "markdown",
   "id": "51ad47b9",
   "metadata": {},
   "source": [
    "<body> label encoding for test data labels.</body>"
   ]
  },
  {
   "cell_type": "code",
   "execution_count": 30,
   "id": "2e592501",
   "metadata": {},
   "outputs": [
    {
     "data": {
      "text/html": [
       "<div>\n",
       "<style scoped>\n",
       "    .dataframe tbody tr th:only-of-type {\n",
       "        vertical-align: middle;\n",
       "    }\n",
       "\n",
       "    .dataframe tbody tr th {\n",
       "        vertical-align: top;\n",
       "    }\n",
       "\n",
       "    .dataframe thead th {\n",
       "        text-align: right;\n",
       "    }\n",
       "</style>\n",
       "<table border=\"1\" class=\"dataframe\">\n",
       "  <thead>\n",
       "    <tr style=\"text-align: right;\">\n",
       "      <th></th>\n",
       "      <th>id</th>\n",
       "      <th>topic</th>\n",
       "      <th>polarity</th>\n",
       "      <th>tweet</th>\n",
       "      <th>unique_words</th>\n",
       "      <th>Sentiment</th>\n",
       "    </tr>\n",
       "  </thead>\n",
       "  <tbody>\n",
       "    <tr>\n",
       "      <th>1</th>\n",
       "      <td>8312</td>\n",
       "      <td>Microsoft</td>\n",
       "      <td>Negative</td>\n",
       "      <td>@Microsoft Why do I pay for WORD when it funct...</td>\n",
       "      <td>pay WORD functions poorly Chromebook</td>\n",
       "      <td>0</td>\n",
       "    </tr>\n",
       "    <tr>\n",
       "      <th>4</th>\n",
       "      <td>6273</td>\n",
       "      <td>FIFA</td>\n",
       "      <td>Negative</td>\n",
       "      <td>Hi @EAHelp I’ve had Madeleine McCann in my cel...</td>\n",
       "      <td>Hi Ive Madeleine McCann cellar past years litt...</td>\n",
       "      <td>0</td>\n",
       "    </tr>\n",
       "    <tr>\n",
       "      <th>14</th>\n",
       "      <td>9135</td>\n",
       "      <td>Nvidia</td>\n",
       "      <td>Positive</td>\n",
       "      <td>Congrats to the NVIDIA NeMo team for the 1.0.0...</td>\n",
       "      <td>Congrats NeMo team release candidate Really ex...</td>\n",
       "      <td>1</td>\n",
       "    </tr>\n",
       "    <tr>\n",
       "      <th>18</th>\n",
       "      <td>8056</td>\n",
       "      <td>Microsoft</td>\n",
       "      <td>Negative</td>\n",
       "      <td>What does that say about Microsoft hardware &amp; ...</td>\n",
       "      <td>say hardware software security Man gets hacked</td>\n",
       "      <td>0</td>\n",
       "    </tr>\n",
       "    <tr>\n",
       "      <th>29</th>\n",
       "      <td>8857</td>\n",
       "      <td>Nvidia</td>\n",
       "      <td>Positive</td>\n",
       "      <td>Watching NVIDIA position itself as not just a ...</td>\n",
       "      <td>Watching position leading hardware manufacture...</td>\n",
       "      <td>1</td>\n",
       "    </tr>\n",
       "    <tr>\n",
       "      <th>...</th>\n",
       "      <td>...</td>\n",
       "      <td>...</td>\n",
       "      <td>...</td>\n",
       "      <td>...</td>\n",
       "      <td>...</td>\n",
       "      <td>...</td>\n",
       "    </tr>\n",
       "    <tr>\n",
       "      <th>970</th>\n",
       "      <td>8318</td>\n",
       "      <td>Microsoft</td>\n",
       "      <td>Negative</td>\n",
       "      <td>Why didn’t anyone think of this acronym for BL...</td>\n",
       "      <td>didnt anyone think acronym BLM Batteries Lives...</td>\n",
       "      <td>0</td>\n",
       "    </tr>\n",
       "    <tr>\n",
       "      <th>973</th>\n",
       "      <td>397</td>\n",
       "      <td>Amazon</td>\n",
       "      <td>Positive</td>\n",
       "      <td>#Amazon Best Seller!\\n\\nScreen Cleaner Kit - B...</td>\n",
       "      <td>Amazon Best Seller Screen Cleaner Kit Best LED...</td>\n",
       "      <td>1</td>\n",
       "    </tr>\n",
       "    <tr>\n",
       "      <th>988</th>\n",
       "      <td>5708</td>\n",
       "      <td>HomeDepot</td>\n",
       "      <td>Positive</td>\n",
       "      <td>Thank you to Matching funds Home Depot RW paym...</td>\n",
       "      <td>Thank Matching funds Home Depot RW payment gen...</td>\n",
       "      <td>1</td>\n",
       "    </tr>\n",
       "    <tr>\n",
       "      <th>992</th>\n",
       "      <td>314</td>\n",
       "      <td>Amazon</td>\n",
       "      <td>Negative</td>\n",
       "      <td>Please explain how this is possible! How can t...</td>\n",
       "      <td>Please explain possible let companies overchar...</td>\n",
       "      <td>0</td>\n",
       "    </tr>\n",
       "    <tr>\n",
       "      <th>997</th>\n",
       "      <td>8069</td>\n",
       "      <td>Microsoft</td>\n",
       "      <td>Positive</td>\n",
       "      <td>Bought a fraction of Microsoft today. Small wins.</td>\n",
       "      <td>Bought fraction today Small wins</td>\n",
       "      <td>1</td>\n",
       "    </tr>\n",
       "  </tbody>\n",
       "</table>\n",
       "<p>120 rows × 6 columns</p>\n",
       "</div>"
      ],
      "text/plain": [
       "       id      topic  polarity  \\\n",
       "1    8312  Microsoft  Negative   \n",
       "4    6273       FIFA  Negative   \n",
       "14   9135     Nvidia  Positive   \n",
       "18   8056  Microsoft  Negative   \n",
       "29   8857     Nvidia  Positive   \n",
       "..    ...        ...       ...   \n",
       "970  8318  Microsoft  Negative   \n",
       "973   397     Amazon  Positive   \n",
       "988  5708  HomeDepot  Positive   \n",
       "992   314     Amazon  Negative   \n",
       "997  8069  Microsoft  Positive   \n",
       "\n",
       "                                                 tweet  \\\n",
       "1    @Microsoft Why do I pay for WORD when it funct...   \n",
       "4    Hi @EAHelp I’ve had Madeleine McCann in my cel...   \n",
       "14   Congrats to the NVIDIA NeMo team for the 1.0.0...   \n",
       "18   What does that say about Microsoft hardware & ...   \n",
       "29   Watching NVIDIA position itself as not just a ...   \n",
       "..                                                 ...   \n",
       "970  Why didn’t anyone think of this acronym for BL...   \n",
       "973  #Amazon Best Seller!\\n\\nScreen Cleaner Kit - B...   \n",
       "988  Thank you to Matching funds Home Depot RW paym...   \n",
       "992  Please explain how this is possible! How can t...   \n",
       "997  Bought a fraction of Microsoft today. Small wins.   \n",
       "\n",
       "                                          unique_words  Sentiment  \n",
       "1                 pay WORD functions poorly Chromebook          0  \n",
       "4    Hi Ive Madeleine McCann cellar past years litt...          0  \n",
       "14   Congrats NeMo team release candidate Really ex...          1  \n",
       "18      say hardware software security Man gets hacked          0  \n",
       "29   Watching position leading hardware manufacture...          1  \n",
       "..                                                 ...        ...  \n",
       "970  didnt anyone think acronym BLM Batteries Lives...          0  \n",
       "973  Amazon Best Seller Screen Cleaner Kit Best LED...          1  \n",
       "988  Thank Matching funds Home Depot RW payment gen...          1  \n",
       "992  Please explain possible let companies overchar...          0  \n",
       "997                   Bought fraction today Small wins          1  \n",
       "\n",
       "[120 rows x 6 columns]"
      ]
     },
     "execution_count": 30,
     "metadata": {},
     "output_type": "execute_result"
    }
   ],
   "source": [
    "new_col = []\n",
    "for t in df_test['tweet']:\n",
    "    new_col.append(process_tweet(t))\n",
    "    \n",
    "df_test['unique_words'] = new_col\n",
    "\n",
    "temp = [] \n",
    "for i in df_test['polarity']:\n",
    "    if i == 'Positive':\n",
    "        temp.append(1)\n",
    "    else:\n",
    "        temp.append(0)\n",
    "\n",
    "        \n",
    "df_test['Sentiment'] = temp\n",
    "df_test"
   ]
  },
  {
   "cell_type": "markdown",
   "id": "d4bfefe7",
   "metadata": {},
   "source": [
    "<body> removing the words that occured less than once in test data.</body>"
   ]
  },
  {
   "cell_type": "code",
   "execution_count": 31,
   "id": "36756bfd",
   "metadata": {},
   "outputs": [],
   "source": [
    "df_test[\"unique_words\"] = df_test[\"unique_words\"].apply(lambda x: \" \".join([i for i in x.split() if i not in rare_words.index]))\n",
    "X_test_df = df_test['unique_words']\n",
    "y_test_df = df_test['Sentiment']"
   ]
  },
  {
   "cell_type": "markdown",
   "id": "3b146e83",
   "metadata": {},
   "source": [
    "<body>converting the entire train data and validation data into numerical features and transforming the test data into numerical features.</body>"
   ]
  },
  {
   "cell_type": "code",
   "execution_count": 32,
   "id": "9417d571",
   "metadata": {},
   "outputs": [],
   "source": [
    "vectorizer_test = TfidfVectorizer(min_df = 7)\n",
    "Final_Data = vectorizer_test.fit_transform(X)\n",
    "X_vector_test= vectorizer_test.transform(X_test_df)\n",
    "x_train = Final_Data.toarray()\n",
    "x_test = X_vector_test.toarray()\n",
    "\n",
    "x_train_df_new = np.insert(x_train, 0, 1, axis = 1)\n",
    "x_test_df_new = np.insert(x_test, 0, 1, axis = 1)\n",
    "\n",
    "x_train = x_train_df_new\n",
    "x_test  = x_test_df_new\n",
    "\n",
    "y_train = pd.Series(y).array\n",
    "y_test = pd.Series(y_test_df).array"
   ]
  },
  {
   "cell_type": "markdown",
   "id": "212acfbd",
   "metadata": {},
   "source": [
    "<body> training the perceptron on entire train and validation data, then checking its accuracy on test data.</body>"
   ]
  },
  {
   "cell_type": "code",
   "execution_count": 35,
   "id": "b51d07d2",
   "metadata": {},
   "outputs": [
    {
     "name": "stdout",
     "output_type": "stream",
     "text": [
      "the accuracy score for eta = 0.1 and n = 30 is 0.9166666666666666\n",
      "the confusion matrix for eta = 0.1 and n = 30 is [[65  0]\n",
      " [10 45]]\n"
     ]
    }
   ],
   "source": [
    "final_perceptron  = np.zeros((x_train.shape[1], 1))\n",
    "final_perceptron = perceptron(x_train, y_train, final_perceptron, 0.1,30)\n",
    "\n",
    "pred_test_y = []\n",
    "for i in range(len(x_test)):\n",
    "    val = np.dot(x_test[i], final_perceptron)\n",
    "\n",
    "    if val > 0:\n",
    "        pred_test_y.append(1)\n",
    "    else:\n",
    "        pred_test_y.append(0)\n",
    "        \n",
    "p_s = accuracy_score(y_test, pred_test_y)\n",
    "C_m = confusion_matrix(y_test,pred_test_y)\n",
    "print(f\"the accuracy score for eta = 0.1 and n = 30 is {p_s}\")\n",
    "print(f\"the confusion matrix for eta = 0.1 and n = 30 is {C_m}\")"
   ]
  },
  {
   "cell_type": "markdown",
   "id": "ab31735f",
   "metadata": {},
   "source": [
    "<body> training the logistic regression model on entire train and validation data, then checking its accuracy on test data.</body>"
   ]
  },
  {
   "cell_type": "code",
   "execution_count": null,
   "id": "46e3aff3",
   "metadata": {},
   "outputs": [],
   "source": [
    "final_theta, cost_epochs = logistic_regression(x_train, y_train, 10000, alpha = 0.1)"
   ]
  },
  {
   "cell_type": "code",
   "execution_count": 37,
   "id": "acc21dd8",
   "metadata": {},
   "outputs": [
    {
     "name": "stdout",
     "output_type": "stream",
     "text": [
      "The accuracy of the given model on test data for logistic regression is  0.975\n"
     ]
    }
   ],
   "source": [
    "preds_prob = calc_h(x_test, final_theta)\n",
    "y_pred = preds_prob.round()\n",
    "print(\"The accuracy of the given model on test data for logistic regression is \",accuracy_score(y_test,y_pred))"
   ]
  },
  {
   "cell_type": "code",
   "execution_count": 38,
   "id": "b69ea7c7",
   "metadata": {},
   "outputs": [
    {
     "name": "stdout",
     "output_type": "stream",
     "text": [
      "The confusion matrix of the given model on test data for logistic regression is  [[64  1]\n",
      " [ 2 53]]\n"
     ]
    }
   ],
   "source": [
    "C_m_log = confusion_matrix(y_test,y_pred)\n",
    "print(\"The confusion matrix of the given model on test data for logistic regression is \",C_m_log)"
   ]
  },
  {
   "cell_type": "markdown",
   "id": "27860f07",
   "metadata": {},
   "source": [
    "<h5> predicting via the neural network </h5>"
   ]
  },
  {
   "cell_type": "code",
   "execution_count": 39,
   "id": "06d9f241",
   "metadata": {},
   "outputs": [
    {
     "name": "stdout",
     "output_type": "stream",
     "text": [
      "The accuracy score of neural networks with 2layers on test data is  0.975\n"
     ]
    }
   ],
   "source": [
    "X_vector_test= vectorizer.transform(X_test_df)\n",
    "x_test_df_new = [np.reshape(x, (X_vector_test.shape[1], 1)) for x in X_vector_test.toarray()]\n",
    "y_test = y_test_df.array\n",
    "test_data = zip(x_test_df_new, y_test)\n",
    "\n",
    "pred = net.predict(test_data)\n",
    "#pred= pred.round()\n",
    "print(\"The accuracy score of neural networks with 2layers on test data is \",accuracy_score(y_test, pred))"
   ]
  },
  {
   "cell_type": "code",
   "execution_count": 40,
   "id": "e444b32a",
   "metadata": {},
   "outputs": [
    {
     "data": {
      "text/plain": [
       "array([[65,  0],\n",
       "       [ 3, 52]], dtype=int64)"
      ]
     },
     "execution_count": 40,
     "metadata": {},
     "output_type": "execute_result"
    }
   ],
   "source": [
    "confusion_matrix(y_test,pred)"
   ]
  },
  {
   "cell_type": "code",
   "execution_count": null,
   "id": "213acace",
   "metadata": {},
   "outputs": [],
   "source": []
  }
 ],
 "metadata": {
  "kernelspec": {
   "display_name": "Python 3 (ipykernel)",
   "language": "python",
   "name": "python3"
  },
  "language_info": {
   "codemirror_mode": {
    "name": "ipython",
    "version": 3
   },
   "file_extension": ".py",
   "mimetype": "text/x-python",
   "name": "python",
   "nbconvert_exporter": "python",
   "pygments_lexer": "ipython3",
   "version": "3.8.12"
  }
 },
 "nbformat": 4,
 "nbformat_minor": 5
}
